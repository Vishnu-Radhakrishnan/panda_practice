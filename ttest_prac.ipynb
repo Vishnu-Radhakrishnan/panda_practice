{
  "nbformat": 4,
  "nbformat_minor": 0,
  "metadata": {
    "colab": {
      "name": "Untitled9.ipynb",
      "provenance": [],
      "authorship_tag": "ABX9TyO00QyAOpv0SW7oteBd69Yc",
      "include_colab_link": true
    },
    "kernelspec": {
      "name": "python3",
      "display_name": "Python 3"
    },
    "language_info": {
      "name": "python"
    }
  },
  "cells": [
    {
      "cell_type": "markdown",
      "metadata": {
        "id": "view-in-github",
        "colab_type": "text"
      },
      "source": [
        "<a href=\"https://colab.research.google.com/github/Vishnu-Radhakrishnan/panda_practice/blob/main/ttest_prac.ipynb\" target=\"_parent\"><img src=\"https://colab.research.google.com/assets/colab-badge.svg\" alt=\"Open In Colab\"/></a>"
      ]
    },
    {
      "cell_type": "code",
      "metadata": {
        "id": "PWFufmpyTdqf"
      },
      "source": [
        "import pandas as pd\n",
        "import scipy\n",
        "from scipy import stats\n",
        "import numpy as np\n",
        "import statsmodels.api as sm"
      ],
      "execution_count": 29,
      "outputs": []
    },
    {
      "cell_type": "code",
      "metadata": {
        "id": "_YzcLeM6UrwR"
      },
      "source": [
        "p1=247\n",
        "n1=0.37\n",
        "\n",
        "p2=308\n",
        "n2=0.39"
      ],
      "execution_count": 17,
      "outputs": []
    },
    {
      "cell_type": "code",
      "metadata": {
        "id": "_bGuf9VNVY7Q"
      },
      "source": [
        "population1=np.random.binomial(1,n1,p1)\n",
        "population2=np.random.binomial(1,n2,p2)"
      ],
      "execution_count": 18,
      "outputs": []
    },
    {
      "cell_type": "code",
      "metadata": {
        "colab": {
          "base_uri": "https://localhost:8080/"
        },
        "id": "gXXutzCGg-p7",
        "outputId": "d200dbad-7869-47cd-b224-a393d5c645a2"
      },
      "source": [
        "sm.stats.ttest_ind(population1,population2)"
      ],
      "execution_count": 30,
      "outputs": [
        {
          "output_type": "execute_result",
          "data": {
            "text/plain": [
              "(-0.3923613549040447, 0.6949424130119519, 553.0)"
            ]
          },
          "metadata": {
            "tags": []
          },
          "execution_count": 30
        }
      ]
    },
    {
      "cell_type": "code",
      "metadata": {
        "id": "eaCW3_SnhCO-"
      },
      "source": [
        ""
      ],
      "execution_count": null,
      "outputs": []
    }
  ]
}